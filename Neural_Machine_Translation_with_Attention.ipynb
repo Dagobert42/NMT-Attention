{
  "nbformat": 4,
  "nbformat_minor": 0,
  "metadata": {
    "colab": {
      "name": "Neural Machine Translation with Attention.ipynb",
      "provenance": [],
      "collapsed_sections": [],
      "authorship_tag": "ABX9TyM9HNdJaRI7QsqB4B43VsKi",
      "include_colab_link": true
    },
    "kernelspec": {
      "name": "python3",
      "display_name": "Python 3"
    },
    "language_info": {
      "name": "python"
    },
    "accelerator": "GPU"
  },
  "cells": [
    {
      "cell_type": "markdown",
      "metadata": {
        "id": "view-in-github",
        "colab_type": "text"
      },
      "source": [
        "<a href=\"https://colab.research.google.com/github/Dagobert42/NMT-Attention/blob/main/Neural_Machine_Translation_with_Attention.ipynb\" target=\"_parent\"><img src=\"https://colab.research.google.com/assets/colab-badge.svg\" alt=\"Open In Colab\"/></a>"
      ]
    },
    {
      "cell_type": "markdown",
      "metadata": {
        "id": "Q3O2RwGmK9M9"
      },
      "source": [
        "## Neural Machine Translation with Attention\n",
        "\n",
        "The goal of this notebook is to implement the **RNNsearch-50** model, i.e., the encoder-decoder with attention system for any language pair different from English-German, German-English, English-French, and French-English. We choose **German-Italian** as an example language pair.\n",
        "\n",
        "Furthermore we loosely follow **test-driven development** (\"TDD\") paradigms to replicate the original system based on the paper:\n",
        "\n",
        "    Bahdanau, Cho & Bengio. Neural Machine Translation by Jointly Learning to Align and Translate. ICLR 2015.\n",
        "\n",
        "An in-depth walk-through of the project is given in the accompanying report which can be found here ADD LINK"
      ]
    },
    {
      "cell_type": "markdown",
      "metadata": {
        "id": "XhVOlKEwH9Ez"
      },
      "source": [
        "# 1. Setup\n",
        "\n",
        "Please choose which dependencies to install to your environment. On re-runs you can ucheck the boxes to save some time."
      ]
    },
    {
      "cell_type": "code",
      "metadata": {
        "id": "qz_I8H-r3VtB"
      },
      "source": [
        "torch = True #@param {type:\"boolean\"}\n",
        "if tf_datasets:\n",
        "    !pip install --upgrade torch\n",
        "\n",
        "torchtext = True #@param {type:\"boolean\"}\n",
        "if torchtext:\n",
        "    !pip install --upgrade torchtext\n",
        "\n",
        "spacy_packages = True #@param {type:\"boolean\"}\n",
        "if spacy_packs:\n",
        "    !pip install --upgrade spacy\n",
        "    !python -m spacy download en_core_news_sm\n",
        "    !python -m spacy download de_core_news_sm\n",
        "    !python -m spacy download it_core_news_sm"
      ],
      "execution_count": null,
      "outputs": []
    },
    {
      "cell_type": "markdown",
      "metadata": {
        "id": "tBfa-ne0NAB7"
      },
      "source": [
        "Next let us import all the modules we are going to be using."
      ]
    },
    {
      "cell_type": "code",
      "metadata": {
        "id": "_nCXITKIM9wc"
      },
      "source": [
        "# access to translation datasets\n",
        "import torchtext\n",
        "\n",
        "# model implementation\n",
        "import torch\n",
        "import torch.nn as nn\n",
        "from torch import optim\n",
        "import torch.nn.functional as F\n",
        "\n",
        "# word tokenization\n",
        "import spacy\n",
        "\n",
        "# utilities\n",
        "import random\n",
        "import time"
      ],
      "execution_count": 41,
      "outputs": []
    },
    {
      "cell_type": "markdown",
      "metadata": {
        "id": "MOK7mD3p1uan"
      },
      "source": [
        "# 2. Data"
      ]
    },
    {
      "cell_type": "markdown",
      "metadata": {
        "id": "qiBUzcOj_mRl"
      },
      "source": [
        "### 2.1 Dataset\n",
        "\n",
        "For data we refer to the Web Inventory of Transcribed and Translated Talks which comes as a torchtext dataset.  On re-runs you can ucheck the box to save some time."
      ]
    },
    {
      "cell_type": "code",
      "metadata": {
        "colab": {
          "base_uri": "https://localhost:8080/"
        },
        "id": "MI6oB9tZaDqe",
        "outputId": "f31e2ffc-d72e-4d66-e502-8426dfe7932b"
      },
      "source": [
        "from torchtext.datasets import IWSLT2017\n",
        "\n",
        "load_dataset = False #@param {type:\"boolean\"}\n",
        "if load_dataset:\n",
        "    train_iter, test_iter, val_iter = IWSLT2017(split=('train', 'test', 'valid'), language_pair=('de', 'it'))\n",
        "src_sentence, trg_sentence = next(train_iter)\n",
        "print('Example:\\n')\n",
        "print('source ->', src_sentence)\n",
        "print('target ->', trg_sentence)\n",
        "\n",
        "print('train examples:', len(train_iter), end='\\t')\n",
        "print('test:', len(test_iter), end='\\t')\n",
        "print('validation:', len(val_iter))"
      ],
      "execution_count": 49,
      "outputs": [
        {
          "output_type": "stream",
          "text": [
            "Example:\n",
            "\n",
            "source -> Das meine ich ernst, teilweise deshalb -- weil ich es wirklich brauchen kann!\n",
            "\n",
            "target -> per i tanti, lusinghieri commenti, anche perché... Ne ho bisogno!!!\n",
            "\n",
            "train examples: 205465\ttest: 1567\tvalidation: 923\n"
          ],
          "name": "stdout"
        }
      ]
    },
    {
      "cell_type": "markdown",
      "metadata": {
        "id": "FhSrQhBqtLra"
      },
      "source": [
        "### 2.2 Vocabulary\n",
        "\n",
        "The vocabulary converts words to indeces and vice versa. Unknown words are marked with the < U > token. The vocabulary can be filtered by word counts and provides methods for converting between sequences and sentences. It also takes an optional SpaCy NLP object which (when given) is used for tokenization."
      ]
    },
    {
      "cell_type": "code",
      "metadata": {
        "id": "Rd2ZdAMQr_Er"
      },
      "source": [
        "class Vocab:\n",
        "    \"\"\"\n",
        "    A vocabulary holding dictionaries for converting words to indeces and back.\n",
        "    \"\"\"\n",
        "    class Entry:\n",
        "        def __init__(self, id):\n",
        "            \"\"\" An entry to the vocabulary. With index and count. \"\"\"\n",
        "            self.id = id\n",
        "            self.count = 1\n",
        "\n",
        "        def __repr__(self):\n",
        "            \"\"\" String prepresentation for printing. \"\"\"\n",
        "            return str((self.id, self.count))\n",
        "\n",
        "    def __init__(self, text=None, spacy_nlp=None):\n",
        "        \"\"\"\n",
        "        Creates a vocabulary over an input text in the form of\n",
        "        dictionaries for indeces and word counts. Hand in a\n",
        "        spacy_nlp object to make use of a SpaCy for tokenization.\n",
        "        \"\"\"\n",
        "        self.SPECIALS = '<S> <E> <U>'\n",
        "        self.spacy_nlp = spacy_nlp\n",
        "        self.words = {}\n",
        "        self.ids = {}\n",
        "\n",
        "        # add special tokens to vocabulary\n",
        "        for word in self.SPECIALS.split():\n",
        "            id = len(self.words.keys())\n",
        "            self.words[word] = self.Entry(id)\n",
        "            self.ids[id] = word\n",
        "\n",
        "        if text:\n",
        "            self.append(text)\n",
        "\n",
        "    def append(self, txt):\n",
        "        \"\"\" Adds a string token by token to the vocabulary. \"\"\"\n",
        "        # use SpaCy for tokenization if requested\n",
        "        if self.spacy_nlp:\n",
        "            for tok in self.spacy_nlp.tokenizer(txt):\n",
        "                word = tok.text\n",
        "                if tok.text not in self.words.keys():\n",
        "                    next_id = len(self.words.keys())\n",
        "                    self.words[word] = self.Entry(next_id)\n",
        "                    self.ids[next_id] = word\n",
        "                else:\n",
        "                    self.words[word].count += 1\n",
        "        else:\n",
        "            for word in txt.split():\n",
        "                if word not in self.words.keys():\n",
        "                    next_id = len(self.words.keys())\n",
        "                    self.words[word] = self.Entry(next_id)\n",
        "                    self.ids[next_id] = word\n",
        "                else:\n",
        "                    self.words[word].count += 1\n",
        "\n",
        "    def filter(self, n_samples, descending=True):\n",
        "        \"\"\"\n",
        "        Reduces this vocabs dictionary to n_samples\n",
        "        after sorting by word count. \n",
        "        \"\"\"\n",
        "        sorted_list = list(sorted(\n",
        "                self.words.items(),\n",
        "                key=lambda item: item[1].count,\n",
        "                reverse=descending))\n",
        "        self.words = {k: v for k, v in sorted_list[:n_samples]}\n",
        "\n",
        "    def get_indeces(self, sentence):\n",
        "        \"\"\" Produces a representation from the indeces in this vocabulary. \"\"\"\n",
        "        STA = 0\n",
        "        END = 1\n",
        "        UNK = 2\n",
        "        if self.spacy_nlp:\n",
        "            seq = [self.words[word].id if word in self.words.keys() else UNK\n",
        "                for word in self.spacy_nlp.tokenizer(sentence)]\n",
        "        else:\n",
        "            seq = [self.words[word].id if word in self.words.keys() else UNK\n",
        "                for word in sentence.split()]\n",
        "        seq.append(END)\n",
        "        return seq\n",
        "    \n",
        "    def get_sentence(self, indeces):\n",
        "        \"\"\"\n",
        "        Converts a list of indeces into a readable sentence\n",
        "        using words from this vocabulary.\n",
        "        \"\"\"\n",
        "        return ' '.join([self.ids[id] for id in indeces])"
      ],
      "execution_count": 51,
      "outputs": []
    },
    {
      "cell_type": "markdown",
      "metadata": {
        "id": "JmlGaPcWxy1B"
      },
      "source": [
        "We make sure the vocabulary works as intended by running tests with a tiny corpus. Note that during development these tests were written **first** and subsequently we implemented the related functionality in the class."
      ]
    },
    {
      "cell_type": "code",
      "metadata": {
        "colab": {
          "base_uri": "https://localhost:8080/"
        },
        "id": "peRNwanhyNey",
        "outputId": "00910709-3a46-451f-f816-d8b653727b5c"
      },
      "source": [
        "TEST_CORPUS_EN = \"\"\"The final project should implement a system \n",
        "        related to deep learning for NLP using the Py- Torch library \n",
        "        and test it. The project is documented in an ACL-style paper \n",
        "        that adheres to the standards of practice in computational \n",
        "        linguistics.\"\"\"\n",
        "\n",
        "test_vocab = Vocab(TEST_CORPUS_EN)\n",
        "\n",
        "# Basic Functionality\n",
        "assert(test_vocab.ids[0] == '<S>') # <S> should always be first\n",
        "assert(test_vocab.ids[3] == 'The')\n",
        "assert(test_vocab.words['The'].id == 3)\n",
        "assert(test_vocab.words['the'].count == 2)\n",
        "\n",
        "# Spacy Option\n",
        "english_nlp = spacy.load('en_core_web_sm')\n",
        "spacy_vocab = Vocab(TEST_CORPUS_EN, spacy_nlp=english_nlp)\n",
        "\n",
        "assert(spacy_vocab.ids[0] == '<S>')\n",
        "assert(spacy_vocab.ids[5] == 'project')\n",
        "assert(spacy_vocab.words['project'].id == 5)\n",
        "assert(spacy_vocab.words['project'].count == 2)\n",
        "\n",
        "# Vocabulary Filter\n",
        "top_30 = test_vocab\n",
        "top_30.filter(n_samples=30)\n",
        "\n",
        "assert(len(top_30.words) == 30)\n",
        "assert(top_30 == test_vocab)\n",
        "\n",
        "# Sentence Vector Conversion\n",
        "vec = test_vocab.get_indeces(\"This is a test\")\n",
        "sent = test_vocab.get_sentence(vec)\n",
        "\n",
        "assert(vec == [2, 24, 8, 22, 1])\n",
        "assert(sent == '<U> is a test <E>')\n",
        "\n",
        "print('OK. No errors or asserts were triggered during testing :)')"
      ],
      "execution_count": 56,
      "outputs": [
        {
          "output_type": "stream",
          "text": [
            "OK. No errors or asserts were triggered during testing :)\n"
          ],
          "name": "stdout"
        }
      ]
    },
    {
      "cell_type": "markdown",
      "metadata": {
        "id": "RB03OWaY1m-K"
      },
      "source": [
        "# 3. Model\n",
        "\n",
        "The network consists of three main parts. These are the Encoder, Decoder and Alignment models which are ultimately combined to form the RNNsearch model."
      ]
    },
    {
      "cell_type": "markdown",
      "metadata": {
        "id": "Zdkcx40MDXWh"
      },
      "source": [
        "## 3.1 Encoder\n",
        "\n",
        "**Inputs:** sequence of one-hot vectors representing a sentence\n",
        "\n",
        "**Outputs:** series of annotations, most recent GRU hidden states"
      ]
    },
    {
      "cell_type": "code",
      "metadata": {
        "id": "9kOKZvkaEB2Z"
      },
      "source": [
        "class Encoder(nn.Module):\n",
        "    def __init__(self, input_dim, embedding_dim, hidden_dim):\n",
        "        super().__init__()\n",
        "        self.hidden_dim = hidden_dim\n",
        "        self.embed = nn.Embedding(input_dim, embedding_dim) # m x Kx\n",
        "        self.birnn = nn.GRU(embedding_dim, hidden_dim, bidirectional = True) # 2*n x m\n",
        "        self.fc = nn.Linear(hidden_dim * 2, hidden_dim) # n x 2*n\n",
        "\n",
        "    def forward(self, x):\n",
        "        E = self.embeddings(x)\n",
        "        # annotations shape: x_len x batch_size x 2*n\n",
        "        annotations, hidden = self.birnn(embeds)\n",
        "        hidden = torch.tanh(self.fc(torch.cat((hidden[-2,:,:], hidden[-1,:,:]), dim = 1)))\n",
        "        return annotations, hidden"
      ],
      "execution_count": null,
      "outputs": []
    },
    {
      "cell_type": "markdown",
      "metadata": {
        "id": "4KpXEWJODXRi"
      },
      "source": [
        "## 3.2 Attention\n",
        "\n",
        "**Inputs:** \n",
        "\n",
        "**Outputs:**"
      ]
    },
    {
      "cell_type": "code",
      "metadata": {
        "id": "cw0jqTl_D_rD"
      },
      "source": [
        "class Attention(nn.Module):\n",
        "    def __init__(self, attention_dim):\n",
        "        super().__init__()\n",
        "        self.attention = nn.Linear((attention_dim * 2) + attention_dim, attention_dim)\n",
        "        self.v = nn.Linear(attention_dim, 1, bias = False)\n",
        "        \n",
        "    def forward(self, encoder_outs, hidden):\n",
        "        batch_size = encoder_outs.shape[1]\n",
        "        src_len = encoder_outs.shape[0]\n",
        "        hidden = hidden.unsqueeze(1).repeat(1, src_len, 1)\n",
        "        \n",
        "        encoder_outs = encoder_outs.permute(1, 0, 2)\n",
        "        energy = torch.tanh(self.attention(torch.cat((hidden, encoder_outs), dim = 2)))\n",
        "        attention = self.v(energy).squeeze(2)\n",
        "        return F.softmax(attention, dim=1)"
      ],
      "execution_count": null,
      "outputs": []
    },
    {
      "cell_type": "markdown",
      "metadata": {
        "id": "e_vvTUdUCzN7"
      },
      "source": [
        "## 3.3 Decoder\n",
        "\n",
        "**Input:** \n",
        "\n",
        "**Outputs:** "
      ]
    },
    {
      "cell_type": "code",
      "metadata": {
        "id": "F9AVLDyND8Yg"
      },
      "source": [
        "class Decoder(nn.Module):\n",
        "    def __init__(self, output_dim, embedding_dim, hidden_dim):\n",
        "        super().__init__()\n",
        "        self.output_dim = output_dim\n",
        "        self.attention = Attention(hidden_dim)\n",
        "        self.embeddings = nn.Embedding(output_dim, embedding_dim)\n",
        "        self.rnn = nn.GRU((hidden_dim * 2) + embedding_dim, hidden_dim)\n",
        "        self.fc_out = nn.Linear((hidden_dim * 2) + hidden_dim + embedding_dim, output_dim)\n",
        "        \n",
        "    def forward(self, input, encoder_outs, hidden):\n",
        "        input = input.unsqueeze(0)\n",
        "        embeds = self.embeddings(input)\n",
        "        a = self.attention(hidden, encoder_outs)\n",
        "        a = a.unsqueeze(1)\n",
        "        encoder_outs = encoder_outs.permute(1, 0, 2)\n",
        "        weighted = torch.bmm(a, encoder_outs)\n",
        "        weighted = weighted.permute(1, 0, 2)\n",
        "        rnn_input = torch.cat((embeds, weighted), dim = 2)\n",
        "        \n",
        "        output, hidden = self.rnn(rnn_input, hidden.unsqueeze(0))\n",
        "        \n",
        "        embeds = embeds.squeeze(0)\n",
        "        output = output.squeeze(0)\n",
        "        weighted = weighted.squeeze(0)\n",
        "        \n",
        "        prediction = self.fc_out(torch.cat((output, weighted, embeds), dim = 1))\n",
        "        return prediction, hidden.squeeze(0)"
      ],
      "execution_count": null,
      "outputs": []
    },
    {
      "cell_type": "markdown",
      "metadata": {
        "id": "7IrOJs9lDXbX"
      },
      "source": [
        "## 3.4 Final RNNsearch Model\n",
        "\n",
        "**Input:** \n",
        "\n",
        "**Outputs:** "
      ]
    },
    {
      "cell_type": "code",
      "metadata": {
        "id": "t7e88XNmEIGV"
      },
      "source": [
        "class RNNsearch(nn.Module):\n",
        "    def __init__(self, input_dim, output_dim, embedding_dim, hidden_dim, attention_dim):\n",
        "        super().__init__()\n",
        "\n",
        "        self.encoder = Encoder(input_dim, embedding_dim, hidden_dim)\n",
        "        self.decoder = Decoder(output_dim, embedding_dim, hidden_dim)\n",
        "        self.device = device\n",
        "\n",
        "    def init_weights(self):\n",
        "        nn.init.orthogonal_(self.encoder.birnn.weight_ih_l[0])\n",
        "        nn.init.orthogonal_(self.encoder.birnn.weight_hh_l[0])\n",
        "        self.encoder.birnn.bias_ih_l[k].fill_(0)\n",
        "        self.encoder.birnn.bias_hh_l[k].fill_(0)\n",
        "\n",
        "    def beam_search(self, decoderout, k):\n",
        "        pass\n",
        "\n",
        "    def forward(self, x, y, teacher_forcing_ratio=0.5):\n",
        "        batch_size = x.shape[1]\n",
        "        max_len = y.shape[0]\n",
        "        trg_vocab_size = self.decoder.output_dim\n",
        "\n",
        "        outputs = torch.zeros(max_len, batch_size, trg_vocab_size).to(self.device)\n",
        "\n",
        "        encoder_outputs, hidden = self.encoder(x)\n",
        "\n",
        "        # first input to the decoder is the <S> token\n",
        "        output = y[0,:]\n",
        "\n",
        "        for t in range(1, max_len):\n",
        "            output, hidden = self.decoder(output, hidden, encoder_outputs)\n",
        "            outputs[t] = output\n",
        "            teacher_force = random.random() < teacher_forcing_ratio\n",
        "            top1 = output.max(1)[1]\n",
        "            output = (y[t] if teacher_force else top1)\n",
        "\n",
        "        return outputs"
      ],
      "execution_count": null,
      "outputs": []
    },
    {
      "cell_type": "markdown",
      "metadata": {
        "id": "rG2sSJlEESQi"
      },
      "source": [
        "# 4. Training"
      ]
    },
    {
      "cell_type": "markdown",
      "metadata": {
        "id": "OOtwYOyD3D1J"
      },
      "source": [
        "## 4.1 Hyperparameters\n",
        "\n",
        "For our purposes we can adjust the hyperparameters to more reasonably expensive values in terms of execution time."
      ]
    },
    {
      "cell_type": "code",
      "metadata": {
        "cellView": "form",
        "id": "6nBOZXc-60N8"
      },
      "source": [
        "embedding_dim = 256 #@param {type:\"integer\"}\n",
        "hidden_dim = 512 #@param {type:\"integer\"}\n",
        "alignment_dim = 64 #@param {type:\"integer\"}\n",
        "maxout_dim = 500 #@param {type:\"integer\"}\n",
        "max_sentence_length = 50 #@param {type:\"integer\"}\n",
        "vocab_size = 30000 #@param {type:\"integer\"}\n",
        "p = 0.95 #@param {type:\"number\"}\n",
        "lr = 0.000001 #@param {type:\"number\"}\n"
      ],
      "execution_count": null,
      "outputs": []
    },
    {
      "cell_type": "code",
      "metadata": {
        "id": "IFRZGAQRBIe6"
      },
      "source": [
        ""
      ],
      "execution_count": null,
      "outputs": []
    },
    {
      "cell_type": "markdown",
      "metadata": {
        "id": "YKlKTgSUi87i"
      },
      "source": [
        "# 5. Evaluation"
      ]
    },
    {
      "cell_type": "code",
      "metadata": {
        "id": "8LY0WeyFi_1V"
      },
      "source": [
        ""
      ],
      "execution_count": null,
      "outputs": []
    }
  ]
}