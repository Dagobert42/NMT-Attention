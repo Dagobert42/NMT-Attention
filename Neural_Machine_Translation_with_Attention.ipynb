{
  "nbformat": 4,
  "nbformat_minor": 0,
  "metadata": {
    "colab": {
      "name": "Neural_Machine_Translation_with_Attention.ipynb",
      "provenance": [],
      "collapsed_sections": [],
      "include_colab_link": true
    },
    "kernelspec": {
      "name": "python3",
      "display_name": "Python 3"
    },
    "language_info": {
      "name": "python"
    },
    "accelerator": "GPU"
  },
  "cells": [
    {
      "cell_type": "markdown",
      "metadata": {
        "id": "view-in-github",
        "colab_type": "text"
      },
      "source": [
        "<a href=\"https://colab.research.google.com/github/Dagobert42/NMT-Attention/blob/main/Neural_Machine_Translation_with_Attention.ipynb\" target=\"_parent\"><img src=\"https://colab.research.google.com/assets/colab-badge.svg\" alt=\"Open In Colab\"/></a>"
      ]
    },
    {
      "cell_type": "markdown",
      "metadata": {
        "id": "Q3O2RwGmK9M9"
      },
      "source": [
        "## Neural Machine Translation with Attention\n",
        "\n",
        "The goal of this notebook is to implement the **RNNsearch-50** model, i.e., the encoder-decoder with attention system for any language pair different from English-German, German-English, English-French, and French-English. We choose **German-Italian** as an example language pair.\n",
        "\n",
        "Furthermore we loosely follow **test-driven development** (\"TDD\") paradigms to replicate the original system based on the paper:\n",
        "\n",
        "    Bahdanau, Cho & Bengio. Neural Machine Translation by Jointly Learning to Align and Translate. ICLR 2015."
      ]
    },
    {
      "cell_type": "markdown",
      "metadata": {
        "id": "XhVOlKEwH9Ez"
      },
      "source": [
        "# 1. Setup\n",
        "\n",
        "Please choose which dependencies to install to your environment. On re-runs you can set these flags to false to save some time."
      ]
    },
    {
      "cell_type": "code",
      "metadata": {
        "id": "qz_I8H-r3VtB"
      },
      "source": [
        "from IPython.display import clear_output\n",
        "\n",
        "torch = False #@param {type:\"boolean\"}\n",
        "if torch:\n",
        "    !pip install torch\n",
        "\n",
        "torchtext = False #@param {type:\"boolean\"}\n",
        "if torchtext:\n",
        "    !pip install torchtext\n",
        "\n",
        "spacy_nlp = True #@param {type:\"boolean\"}\n",
        "if spacy_nlp:\n",
        "    !pip install spacy\n",
        "\n",
        "spacy_packages = True #@param {type:\"boolean\"}\n",
        "if spacy_packages:\n",
        "    !python -m spacy download en_core_web_sm\n",
        "    !python -m spacy download de_core_news_sm\n",
        "    !python -m spacy download it_core_news_sm\n",
        "\n",
        "clear_output()"
      ],
      "execution_count": null,
      "outputs": []
    },
    {
      "cell_type": "markdown",
      "metadata": {
        "id": "tBfa-ne0NAB7"
      },
      "source": [
        "Next let us import all the modules we are going to be using."
      ]
    },
    {
      "cell_type": "code",
      "metadata": {
        "id": "_nCXITKIM9wc"
      },
      "source": [
        "# access to translation datasets\n",
        "import torchtext\n",
        "\n",
        "# model implementation\n",
        "import torch\n",
        "from torch import optim\n",
        "import torch.nn as nn\n",
        "import torch.nn.functional as F\n",
        "from torch.nn.utils.rnn import pad_sequence\n",
        "from torch.nn.utils import clip_grad_norm_\n",
        "from torch.utils.data import DataLoader\n",
        "\n",
        "# tokenization\n",
        "import spacy\n",
        "\n",
        "# utilities\n",
        "import math\n",
        "import random\n",
        "import matplotlib.pyplot as plt\n",
        "import matplotlib.ticker as ticker\n",
        "import time\n",
        "from datetime import datetime\n",
        "import gc\n",
        "\n",
        "# storing data\n",
        "import pickle\n",
        "import uuid"
      ],
      "execution_count": null,
      "outputs": []
    },
    {
      "cell_type": "markdown",
      "metadata": {
        "id": "MOK7mD3p1uan"
      },
      "source": [
        "# 2. Data"
      ]
    },
    {
      "cell_type": "markdown",
      "metadata": {
        "id": "FhSrQhBqtLra"
      },
      "source": [
        "### 2.1 Vocabulary\n",
        "\n",
        "The vocabulary converts words to indeces and vice versa. Unknown words are marked with the < U > token. The vocabulary can be filtered by word counts and provides methods for converting between sequences and sentences. It also takes an optional SpaCy NLP object which (when given) is used for tokenization."
      ]
    },
    {
      "cell_type": "code",
      "metadata": {
        "id": "Rd2ZdAMQr_Er"
      },
      "source": [
        "class Vocab:\n",
        "    \"\"\"\n",
        "    A vocabulary holding dictionaries for converting words to indeces and back.\n",
        "    \"\"\"\n",
        "    class Entry:\n",
        "        def __init__(self, id):\n",
        "            \"\"\" An entry to the vocabulary. With index and count. \"\"\"\n",
        "            self.id = id\n",
        "            self.count = 1\n",
        "\n",
        "        def __repr__(self):\n",
        "            \"\"\" String prepresentation for printing. \"\"\"\n",
        "            return str((self.id, self.count))\n",
        "\n",
        "    def __init__(self, text=None, spacy_nlp=None):\n",
        "        \"\"\"\n",
        "        Creates a vocabulary over an input text in the form of\n",
        "        dictionaries for indeces and word counts. Hand in a\n",
        "        spacy_nlp object to make use of a SpaCy for tokenization.\n",
        "        \"\"\"\n",
        "        self.spacy_nlp = spacy_nlp\n",
        "        self.words = {'<S>':self.Entry(0),\n",
        "                      '<E>':self.Entry(1),\n",
        "                      '<U>':self.Entry(2),\n",
        "                      '<P>':self.Entry(3)}\n",
        "        self.ids = {0:'<S>',\n",
        "                    1:'<E>',\n",
        "                    2:'<U>',\n",
        "                    3:'<P>'}\n",
        "        self.next_id = 4\n",
        "\n",
        "        if text:\n",
        "            self.append(text)\n",
        "\n",
        "    def append(self, txt):\n",
        "        \"\"\" Adds a string token by token to the vocabulary. \"\"\"\n",
        "        # use SpaCy for tokenization if requested\n",
        "        if self.spacy_nlp:\n",
        "            for tok in self.spacy_nlp.tokenizer(txt):\n",
        "                word = tok.text\n",
        "                if word not in self.words.keys():\n",
        "                    self.words[word] = self.Entry(self.next_id)\n",
        "                    self.ids[self.next_id] = word\n",
        "                    self.next_id += 1\n",
        "                else:\n",
        "                    self.words[word].count += 1\n",
        "        else:\n",
        "            for word in txt.split():\n",
        "                if word not in self.words.keys():\n",
        "                    self.words[word] = self.Entry(self.next_id)\n",
        "                    self.ids[self.next_id] = word\n",
        "                    self.next_id += 1\n",
        "                else:\n",
        "                    self.words[word].count += 1\n",
        "\n",
        "    def filter(self, n_samples, descending=True):\n",
        "        \"\"\"\n",
        "        Reduces this vocabs dictionary to n_samples and\n",
        "        the 4 special tokens after sorting by word count.\n",
        "        Indeces remain untouched\n",
        "        \"\"\"\n",
        "        # exclude specials from sorting\n",
        "        del self.words['<S>']\n",
        "        del self.words['<E>']\n",
        "        del self.words['<U>']\n",
        "        del self.words['<P>']\n",
        "\n",
        "        sorted_list = list(sorted(\n",
        "                self.words.items(),\n",
        "                key=lambda item: item[1].count,\n",
        "                reverse=descending))\n",
        "        \n",
        "        # reinitialize dictionary\n",
        "        self.words = {'<S>':self.Entry(0),\n",
        "                      '<E>':self.Entry(1),\n",
        "                      '<U>':self.Entry(2),\n",
        "                      '<P>':self.Entry(3)}\n",
        "        self.next_id = 4\n",
        "\n",
        "        # add values from sorted list\n",
        "        for word, entry in sorted_list[:n_samples-4]: # -4 specials\n",
        "            entry.id = self.next_id # reindex, keep count\n",
        "            self.words[word] = entry\n",
        "            self.ids[self.next_id] = word\n",
        "            self.next_id += 1\n",
        "\n",
        "    def get_indeces(self, sentence):\n",
        "        \"\"\" Produces a representation from the indeces in this vocabulary. \"\"\"\n",
        "        END = 1\n",
        "        UNK = 2\n",
        "        if self.spacy_nlp:\n",
        "            seq = [self.words[tok.text].id if tok.text in self.words.keys() else UNK\n",
        "                for tok in self.spacy_nlp.tokenizer(sentence)]\n",
        "        else:\n",
        "            seq = [self.words[word].id if word in self.words.keys() else UNK\n",
        "                for word in sentence.split()]\n",
        "        seq.append(END)\n",
        "        return seq\n",
        "    \n",
        "    def get_sentence(self, indeces):\n",
        "        \"\"\"\n",
        "        Converts a list of indeces into a readable sentence\n",
        "        using words from this vocabulary.\n",
        "        \"\"\"\n",
        "        return ' '.join([self.ids[id] for id in indeces])"
      ],
      "execution_count": null,
      "outputs": []
    },
    {
      "cell_type": "markdown",
      "metadata": {
        "id": "JmlGaPcWxy1B"
      },
      "source": [
        "We make sure the vocabulary works as intended by running tests with a tiny corpus. Note that during development these tests were written **first** and subsequently we implemented the related functionality in the class."
      ]
    },
    {
      "cell_type": "code",
      "metadata": {
        "id": "peRNwanhyNey",
        "colab": {
          "base_uri": "https://localhost:8080/"
        },
        "outputId": "d1ec678c-e7fe-4b2c-9f9f-e7c4eb852c0c"
      },
      "source": [
        "TEST_CORPUS_EN = \"\"\"The final project should implement a system \n",
        "        related to deep learning for NLP using the Py- Torch library \n",
        "        and test it. The project is documented in an ACL-style paper \n",
        "        that adheres to the standards of practice in computational \n",
        "        linguistics.\"\"\"\n",
        "\n",
        "test_vocab = Vocab(TEST_CORPUS_EN)\n",
        "\n",
        "# Basic Functionality\n",
        "assert(test_vocab.ids[0] == '<S>') # <S> should always be first\n",
        "assert(test_vocab.ids[4] == 'The')\n",
        "assert(test_vocab.words['The'].id == 4)\n",
        "assert(test_vocab.words['The'].count == 2)\n",
        "\n",
        "# Spacy Option\n",
        "english_nlp = spacy.load('en_core_web_sm')\n",
        "spacy_vocab = Vocab(TEST_CORPUS_EN, spacy_nlp=english_nlp)\n",
        "\n",
        "assert(spacy_vocab.ids[0] == '<S>')\n",
        "assert(spacy_vocab.ids[6] == 'project')\n",
        "assert(spacy_vocab.words['project'].id == 6)\n",
        "assert(spacy_vocab.words['project'].count == 2)\n",
        "\n",
        "# Vocabulary Filter\n",
        "top_30 = test_vocab\n",
        "top_30.filter(n_samples=30)\n",
        "\n",
        "assert(len(top_30.words) == 30)\n",
        "\n",
        "# Sentence Vector Conversion\n",
        "vec = spacy_vocab.get_indeces(\"This is a test\")\n",
        "sent = spacy_vocab.get_sentence(vec)\n",
        "\n",
        "assert(vec == [2, 27, 9, 24, 1])\n",
        "assert(sent == '<U> is a test <E>')\n",
        "\n",
        "print('OK. No errors or asserts were triggered during testing :)')"
      ],
      "execution_count": null,
      "outputs": [
        {
          "output_type": "stream",
          "text": [
            "OK. No errors or asserts were triggered during testing :)\n"
          ],
          "name": "stdout"
        }
      ]
    },
    {
      "cell_type": "markdown",
      "metadata": {
        "id": "i6ZfauRUbvsh"
      },
      "source": [
        "### 2.2 Dataset\n",
        "\n",
        "For data we look to the Web Inventory of Transcribed and Translated Talks which comes as a torchtext dataset.  You can see some examples during the building process. On re-runs you can set these flags to false to save some time."
      ]
    },
    {
      "cell_type": "code",
      "metadata": {
        "id": "CBvGNzPvmhtR",
        "colab": {
          "base_uri": "https://localhost:8080/"
        },
        "outputId": "0d0ae9b9-ebff-4ee8-d859-d23a99e35f1a"
      },
      "source": [
        "from torchtext.datasets import IWSLT2017\n",
        "try:\n",
        "    with open('train_pairs.pkl', 'rb') as f:\n",
        "        train_pairs = pickle.load(f)\n",
        "\n",
        "    with open('test_pairs.pkl', 'rb') as f:\n",
        "        test_pairs = pickle.load(f)\n",
        "\n",
        "    with open('val_pairs.pkl', 'rb') as f:\n",
        "        val_pairs = pickle.load(f)\n",
        "    print(\"loaded data from disk...\")\n",
        "except:\n",
        "    print(\"unable to load data from disk...\")\n",
        "    print(\"downloading dataset from pytorch...\")\n",
        "    train_iter, test_iter, val_iter = IWSLT2017(\n",
        "        split=('train', 'test', 'valid'),\n",
        "        language_pair=('de', 'it'))\n",
        "    \n",
        "    train_pairs = [(src, trg) for src, trg in train_iter]\n",
        "    with open('train_pairs.pkl', 'wb') as f:\n",
        "        pickle.dump(train_pairs, f)\n",
        "\n",
        "    test_pairs = [(src, trg) for src, trg in test_iter]\n",
        "    with open('test_pairs.pkl', 'wb') as f:\n",
        "        pickle.dump(test_pairs, f)\n",
        "\n",
        "    val_pairs = [(src, trg) for src, trg in val_iter]\n",
        "    with open('val_pairs.pkl', 'wb') as f:\n",
        "        pickle.dump(val_pairs, f)\n",
        "\n",
        "    print(\"data saved to disk...\")\n",
        "    \n",
        "random.shuffle(train_pairs)\n",
        "TRAIN_EXAMPLES = 100000 #@param {type:\"integer\"}\n",
        "if TRAIN_EXAMPLES < len(train_pairs):\n",
        "    train_pairs = train_pairs[:TRAIN_EXAMPLES]\n",
        "\n",
        "print('sentence pairs in...')\n",
        "print('...train:', len(train_pairs), end='\\t')\n",
        "print('...test:', len(test_pairs), end='\\t')\n",
        "print('...validation:', len(val_pairs))"
      ],
      "execution_count": null,
      "outputs": [
        {
          "output_type": "stream",
          "text": [
            "loaded data from disk...\n",
            "sentence pairs in...\n",
            "...train: 100000\t...test: 1567\t...validation: 923\n"
          ],
          "name": "stdout"
        }
      ]
    },
    {
      "cell_type": "code",
      "metadata": {
        "id": "JubRANtaqNZv",
        "colab": {
          "base_uri": "https://localhost:8080/"
        },
        "outputId": "ce7dd441-f80e-46fb-90d8-c527c93072d8"
      },
      "source": [
        "rebuild_vocab = True #@param {type:\"boolean\"}\n",
        "if not rebuild_vocab:\n",
        "    try:\n",
        "        with open('de_vocab.pkl', 'rb') as f:\n",
        "            de_vocab = pickle.load(f)\n",
        "        with open('it_vocab.pkl', 'rb') as f:\n",
        "            it_vocab = pickle.load(f)\n",
        "        print(\"loaded vocabularies from disk...\")\n",
        "    except:\n",
        "        print(\"unable to load vocabularies from disk...\")\n",
        "        rebuild_vocab = True\n",
        "\n",
        "if rebuild_vocab:\n",
        "    de_nlp = spacy.load('de_core_news_sm')\n",
        "    it_nlp = spacy.load('it_core_news_sm')\n",
        "    de_vocab = Vocab(spacy_nlp=de_nlp)\n",
        "    it_vocab = Vocab(spacy_nlp=it_nlp)\n",
        "\n",
        "    PRINT_EVERY = 10000\n",
        "    for n, (src, trg) in enumerate(train_pairs):\n",
        "        if n % PRINT_EVERY == 0:\n",
        "            clear_output()\n",
        "            print(\"building vocabularies...\\n\")\n",
        "            print(f'Example: {n}\\n')\n",
        "            print('source ->', src)\n",
        "            print('target ->', trg)\n",
        "        de_vocab.append(src)\n",
        "        it_vocab.append(trg)\n",
        "\n",
        "    VOCAB_SIZE = 10000 #@param {type:\"integer\"}\n",
        "    de_vocab.filter(VOCAB_SIZE)\n",
        "    it_vocab.filter(VOCAB_SIZE)\n",
        "\n",
        "    with open('de_vocab.pkl', 'wb') as f:\n",
        "        pickle.dump(de_vocab, f)\n",
        "\n",
        "    with open('it_vocab.pkl', 'wb') as f:\n",
        "        pickle.dump(it_vocab, f)\n",
        "\n",
        "    print(\"vocabularies saved to disk...\")"
      ],
      "execution_count": null,
      "outputs": [
        {
          "output_type": "stream",
          "text": [
            "building vocabularies...\n",
            "\n",
            "Example: 90000\n",
            "\n",
            "source -> Er fragte sie. Sie sagten: \"Wir wollen nichts von dir.\"\n",
            "\n",
            "target -> Glielo chiese. Dissero: \"Non vogliamo niente da te.\"\n",
            "\n",
            "vocabularies saved to disk...\n"
          ],
          "name": "stdout"
        }
      ]
    },
    {
      "cell_type": "code",
      "metadata": {
        "colab": {
          "base_uri": "https://localhost:8080/"
        },
        "id": "NKAhNPtk5QBy",
        "outputId": "301674a2-d4c8-410d-b1cb-eb8a9e60b43f"
      },
      "source": [
        "def get_tensors(sentence_pairs, src_vocab, trg_vocab):\n",
        "    data = []\n",
        "    PRINT_EVERY = 10000\n",
        "    for n, (src, trg) in enumerate(sentence_pairs):\n",
        "        de_tensor = torch.tensor(src_vocab.get_indeces(src),\n",
        "                                dtype=torch.long)\n",
        "        it_tensor = torch.tensor(trg_vocab.get_indeces(trg),\n",
        "                                dtype=torch.long)\n",
        "        if n % PRINT_EVERY == 0:\n",
        "            clear_output()\n",
        "            print(\"converting to tensors...\\n\")\n",
        "            print(f'example: {n}\\n')\n",
        "            print('source ->', de_tensor)\n",
        "            print('target ->', it_tensor)\n",
        "        data.append((de_tensor, it_tensor))\n",
        "    return data\n",
        "    \n",
        "train_data = get_tensors(train_pairs, de_vocab, it_vocab)\n",
        "test_data = get_tensors(test_pairs, de_vocab, it_vocab)\n",
        "val_data = get_tensors(val_pairs, de_vocab, it_vocab)\n",
        "clear_output()\n",
        "\n",
        "# print a random example\n",
        "x = random.randrange(0, len(train_pairs))\n",
        "print(f'example: {x}\\n')\n",
        "print('source ->', train_pairs[x][0])\n",
        "print('target ->', train_pairs[x][1])\n",
        "print(\"as tensors:\\n\")\n",
        "print('source ->', train_data[x][0], '\\n')\n",
        "print('target ->', train_data[x][1])"
      ],
      "execution_count": null,
      "outputs": [
        {
          "output_type": "stream",
          "text": [
            "example: 94092\n",
            "\n",
            "source -> Wegen des Regens ist bis vier Uhr nachmittags niemand in den Wahllokalen aufgetaucht.\n",
            "\n",
            "target -> E per colpa della pioggia fino alle 4 del pomeriggio, nessuno è andato ai seggi.\n",
            "\n",
            "as tensors:\n",
            "\n",
            "source -> tensor([2920,   60,    2,   10,  145,  321, 1110,    2,  618,   13,   26,    2,\n",
            "           2,    5,    6,    1]) \n",
            "\n",
            "target -> tensor([  21,   16, 2485,   34, 2441,  281,  147,  919,   26, 2744,    4,  419,\n",
            "          10,  789,  128,    2,    6,    5,    1])\n"
          ],
          "name": "stdout"
        }
      ]
    },
    {
      "cell_type": "markdown",
      "metadata": {
        "id": "RB03OWaY1m-K"
      },
      "source": [
        "# 3. Model\n",
        "\n",
        "The network consists of three main parts. These are the Encoder, Decoder and Alignment models which are ultimately combined to form the RNNsearch model."
      ]
    },
    {
      "cell_type": "markdown",
      "metadata": {
        "id": "Zdkcx40MDXWh"
      },
      "source": [
        "## 3.1 Encoder\n",
        "\n",
        "**Inputs:** sequence of one-hot vectors representing a sentence\n",
        "\n",
        "**Outputs:** series of annotations, most recent GRU hidden states"
      ]
    },
    {
      "cell_type": "code",
      "metadata": {
        "id": "9kOKZvkaEB2Z"
      },
      "source": [
        "class Encoder(nn.Module):\n",
        "    def __init__(self, input_dim, embedding_dim, hidden_dim, dropout):\n",
        "        super().__init__()\n",
        "\n",
        "        self.embed = nn.Embedding(input_dim, embedding_dim)\n",
        "        self.biRNN = nn.GRU(embedding_dim, hidden_dim, bidirectional = True)\n",
        "        self.fc = nn.Linear(hidden_dim * 2, hidden_dim)\n",
        "        self.dropout = nn.Dropout(dropout)\n",
        "\n",
        "    def forward(self, src):\n",
        "\n",
        "        embeds = self.dropout(self.embed(src)) # [src_len, batch_size, embedding_dim]\n",
        "        out, hidden = self.biRNN(embeds) # out = [src_len, batch_size, hiden_dim * 2]\n",
        "        hidden = torch.tanh(self.fc(torch.cat((hidden[-2,:,:], hidden[-1,:,:]), dim = 1))) # [batch_size, hidden_dim]\n",
        "        return out, hidden"
      ],
      "execution_count": null,
      "outputs": []
    },
    {
      "cell_type": "markdown",
      "metadata": {
        "id": "4KpXEWJODXRi"
      },
      "source": [
        "## 3.2 Attention\n",
        "\n",
        "**Inputs:** encodings, recent encoder hidden states\n",
        "\n",
        "**Outputs:** attention energies over the input sequence"
      ]
    },
    {
      "cell_type": "code",
      "metadata": {
        "id": "cw0jqTl_D_rD"
      },
      "source": [
        "class Attention(nn.Module):\n",
        "    def __init__(self, hidden_dim, attention_dim):\n",
        "        super().__init__()\n",
        "\n",
        "        self.attention = nn.Linear(hidden_dim * 3, attention_dim)\n",
        "        self.v = nn.Linear(attention_dim, 1, bias = False)\n",
        "\n",
        "    def forward(self, hidden, encoder_outputs):\n",
        "        batch_size = encoder_outputs.shape[1]\n",
        "        src_len = encoder_outputs.shape[0]\n",
        "\n",
        "        hidden = hidden.unsqueeze(1).repeat(1, src_len, 1) # [batch_size, src_len, hidden_dim]\n",
        "        encoder_outputs = encoder_outputs.permute(1, 0, 2) # [batch_size, src_len, hidden_dim * 2]\n",
        "        \n",
        "        energy = torch.tanh(self.attention(torch.cat((hidden, encoder_outputs), dim = 2))) # [batch_size, src_len, hidden_dim]\n",
        "        soft_align = self.v(energy).squeeze(2) # [batch_size, src_len]\n",
        "        return F.softmax(soft_align, dim=1)"
      ],
      "execution_count": null,
      "outputs": []
    },
    {
      "cell_type": "markdown",
      "metadata": {
        "id": "e_vvTUdUCzN7"
      },
      "source": [
        "## 3.3 Decoder\n",
        "\n",
        "**Input:** encodings, recent encoder hidden states\n",
        "\n",
        "**Outputs:** current prediction, hidden states"
      ]
    },
    {
      "cell_type": "code",
      "metadata": {
        "id": "F9AVLDyND8Yg"
      },
      "source": [
        "class Decoder(nn.Module):\n",
        "    def __init__(self, output_dim, emb_dim, hidden_dim, attention_dim, dropout):\n",
        "        super().__init__()\n",
        "\n",
        "        self.attention = Attention(hidden_dim, attention_dim)\n",
        "        self.embed = nn.Embedding(output_dim, emb_dim)\n",
        "        self.rnn = nn.GRU((hidden_dim * 2) + emb_dim, hidden_dim)\n",
        "        self.fc_out = nn.Linear((hidden_dim * 2) + hidden_dim + emb_dim, output_dim)\n",
        "        self.dropout = nn.Dropout(dropout)\n",
        "        \n",
        "    def forward(self, input, hidden, encoder_outputs):\n",
        "        input = input.unsqueeze(0) # [1, batch_size]\n",
        "        embeds = self.dropout(self.embed(input)) # [1, batch_size, embedding_dim]\n",
        "        \n",
        "        a = self.attention(hidden, encoder_outputs) # [batch_size, src_len]\n",
        "        a = a.unsqueeze(1) # [batch_size, 1, src_len]\n",
        "        \n",
        "        encoder_outputs = encoder_outputs.permute(1, 0, 2) # [batch_size, src_len, hidden_dim * 2]\n",
        "        weighted = torch.bmm(a, encoder_outputs) # [batch_size, 1, hidden_dim * 2]\n",
        "        weighted = weighted.permute(1, 0, 2) # [1, batch_size, hidden_dim * 2]\n",
        "        \n",
        "        rnn_input = torch.cat((embeds, weighted), dim = 2) # [1, batch_size, (hidden_dim * 2) + embedding_dim]\n",
        "            \n",
        "        output, hidden = self.rnn(rnn_input, hidden.unsqueeze(0))\n",
        "        \n",
        "        embeds = embeds.squeeze(0) # [batch_size, embedding_dim]\n",
        "        output = output.squeeze(0) # [batch_size, hidden_dim]\n",
        "        weighted = weighted.squeeze(0) # [batch_size, hidden_dim * 2]\n",
        "        prediction = self.fc_out(torch.cat((output, weighted, embeds), dim = 1))\n",
        "        # resqueeze dimensions for translation pass\n",
        "        return prediction, hidden.squeeze(0), a.squeeze(1)"
      ],
      "execution_count": null,
      "outputs": []
    },
    {
      "cell_type": "markdown",
      "metadata": {
        "id": "7IrOJs9lDXbX"
      },
      "source": [
        "## 3.4 Final Model\n",
        "\n",
        "**Input:** encoded source sequence, empty target sequence\n",
        "\n",
        "**Outputs:** encoded translation"
      ]
    },
    {
      "cell_type": "code",
      "metadata": {
        "id": "t7e88XNmEIGV"
      },
      "source": [
        "class Translator(nn.Module):\n",
        "    def __init__(self, input_dim, output_dim, embedding_dim, hidden_dim, attention_dim, dropout, device):\n",
        "        super().__init__()\n",
        "        self.trg_vocab_size = output_dim\n",
        "        self.encoder = Encoder(input_dim, embedding_dim, hidden_dim, dropout)\n",
        "        self.decoder = Decoder(output_dim, embedding_dim, hidden_dim, attention_dim, dropout)\n",
        "        self.device = device\n",
        "\n",
        "    def forward(self, src, trg):\n",
        "        batch_size = src.shape[1] # src = [src_len, batch_size]\n",
        "        trg_len = trg.shape[0] # trg = [trg_len, batch_size]\n",
        "        \n",
        "        outputs = torch.zeros(trg_len, batch_size, self.trg_vocab_size).to(self.device)\n",
        "        encoder_outputs, hidden = self.encoder(src)\n",
        "        input = trg[0,:] # first input to the decoder is the <S> token\n",
        "        \n",
        "        # passing input incrementally to the decoder\n",
        "        for t in range(1, trg_len):\n",
        "            output, hidden, _ = self.decoder(input, hidden, encoder_outputs)\n",
        "            outputs[t] = output\n",
        "            input = output.argmax(1)\n",
        "\n",
        "        return outputs"
      ],
      "execution_count": null,
      "outputs": []
    },
    {
      "cell_type": "markdown",
      "metadata": {
        "id": "rG2sSJlEESQi"
      },
      "source": [
        "# 4. Training"
      ]
    },
    {
      "cell_type": "markdown",
      "metadata": {
        "id": "RqJrAS3AZ1as"
      },
      "source": [
        "## 4.2 Batching\n",
        "\n",
        "In the original training method 1600 sentence pairs are retrieved at every 20th update and sorted by length. Then 20 new mini-batches with 80 sentence pairs each are prepared from this data. This keeps the average length of batches comparably low since each batch is always the length of its longest sequence while all of its smaller sequences are being padded with the special token < P >."
      ]
    },
    {
      "cell_type": "code",
      "metadata": {
        "id": "j0eaxpk1PTs-",
        "colab": {
          "base_uri": "https://localhost:8080/"
        },
        "outputId": "faea311f-6333-4835-f66f-ca6295a52719"
      },
      "source": [
        "RESORT_DATA = True #@param {type:\"boolean\"}\n",
        "if RESORT_DATA:\n",
        "\n",
        "    def sort_data(data, max_len):\n",
        "        #filter input sentences for max length\n",
        "        data_pruned = []\n",
        "        for pair in data:\n",
        "            if pair[0].size()[0] < max_len:\n",
        "                data_pruned.append(pair)\n",
        "        # sort sentences by length of input sentence\n",
        "        return list(sorted(\n",
        "                    data_pruned,\n",
        "                    key=lambda pair: pair[0].size()[0],\n",
        "                    reverse=True))\n",
        "        \n",
        "    MAX_SENT_LENGTH = 20 #@param {type:\"integer\"}\n",
        "    train_sorted = sort_data(train_data, MAX_SENT_LENGTH)\n",
        "    test_sorted = sort_data(test_data, MAX_SENT_LENGTH)\n",
        "    val_sorted = sort_data(val_data, MAX_SENT_LENGTH)\n",
        "    print(f'Sentence pairs of input length < {MAX_SENT_LENGTH}:',\n",
        "          len(train_sorted))"
      ],
      "execution_count": null,
      "outputs": [
        {
          "output_type": "stream",
          "text": [
            "Sentence pairs of input length < 20: 57796\n"
          ],
          "name": "stdout"
        }
      ]
    },
    {
      "cell_type": "code",
      "metadata": {
        "id": "8d4mFjO9ci0I"
      },
      "source": [
        "def prepare_batches(data):\n",
        "    \"\"\" Returns mini-batches from sorted data. \"\"\"\n",
        "    STA = 0.0\n",
        "    PAD = 3.0\n",
        "    de_batch = []\n",
        "    it_batch = []\n",
        "    for de_item, it_item in data:\n",
        "        de_batch.append(torch.cat([torch.tensor([STA]), de_item], dim=0))\n",
        "        it_batch.append(torch.cat([torch.tensor([STA]), it_item], dim=0))\n",
        "    de_batch_padded = pad_sequence(de_batch, padding_value=PAD)\n",
        "    it_batch_padded = pad_sequence(it_batch, padding_value=PAD)\n",
        "    return de_batch_padded, it_batch_padded\n",
        "\n",
        "\n",
        "BATCH_SIZE =   32#@param {type:\"integer\"}\n",
        "train_batches = DataLoader(train_sorted, batch_size=BATCH_SIZE,\n",
        "                           shuffle=True, collate_fn=prepare_batches)\n",
        "test_batches = DataLoader(test_sorted, batch_size=BATCH_SIZE,\n",
        "                          shuffle=True, collate_fn=prepare_batches)\n",
        "val_batches = DataLoader(val_sorted, batch_size=BATCH_SIZE,\n",
        "                         shuffle=True, collate_fn=prepare_batches)"
      ],
      "execution_count": null,
      "outputs": []
    },
    {
      "cell_type": "markdown",
      "metadata": {
        "id": "oVsth5r2mEHi"
      },
      "source": [
        "## 4.2 Hyperparameters\n",
        "\n",
        "For our purposes we can adjust the hyperparameters to more reasonably expensive values in terms of training time."
      ]
    },
    {
      "cell_type": "code",
      "metadata": {
        "id": "ye30DwHimEHj",
        "cellView": "form"
      },
      "source": [
        "#@markdown Model Parameters\n",
        "EMBEDDING_DIM =   32#@param {type:\"integer\"}\n",
        "HIDDEN_DIM =   64#@param {type:\"integer\"}\n",
        "ATTENION_DIM =   40#@param {type:\"integer\"}\n",
        "DROPOUT = 0.5 #@param {type:\"number\"}\n",
        "#@markdown Training Parameters\n",
        "EPOCHS =   10#@param {type:\"integer\"}\n",
        "RHO = 0.95 #@param {type:\"number\"}\n",
        "EPSILON = 0.000001 #@param {type:\"number\"}\n",
        "LEARNING_RATE = 0.005 #@param {type:\"number\"}\n",
        "GRADIENT_CLIP = 1 #@param {type:\"number\"}"
      ],
      "execution_count": null,
      "outputs": []
    },
    {
      "cell_type": "markdown",
      "metadata": {
        "id": "twQkSVO1Upkt"
      },
      "source": [
        "## 4.3 Model Declaration\n",
        "\n",
        "We initialize the weights as proposed. Setting all biases to 0, the recurrent weight matrices to random orthogonal matrices and sampling all other weights from normal distribution."
      ]
    },
    {
      "cell_type": "code",
      "metadata": {
        "id": "bPLl4sl0vTRM"
      },
      "source": [
        "def init_weights(model):\n",
        "    \"\"\" Initialises the model weights and biases. \"\"\"\n",
        "    for name, param in model.named_parameters():\n",
        "      INIT_WEIGHTS_CLASSIC = False #@param {type:\"boolean\"}\n",
        "      if INIT_WEIGHTS_CLASSIC:\n",
        "        # recurrent layer weights\n",
        "        if 'weight_ih_l' in name or 'weight_hh_l' in name:\n",
        "            nn.init.orthogonal_(param.data)\n",
        "        # recurrent layer biases\n",
        "        elif 'bias_ih_l' in name or 'bias_hh_l' in name:\n",
        "            nn.init.constant_(param.data, 0)\n",
        "        # remaining params\n",
        "        elif 'weight' in name:\n",
        "            nn.init.normal_(param.data, mean=0, std=0.01)\n",
        "        else:\n",
        "            nn.init.constant_(param.data, 0)\n",
        "      else:\n",
        "        if 'weight' in name:\n",
        "            nn.init.normal_(param.data, mean=0, std=0.01)\n",
        "        else:\n",
        "            nn.init.constant_(param.data, 0)"
      ],
      "execution_count": null,
      "outputs": []
    },
    {
      "cell_type": "markdown",
      "metadata": {
        "id": "muvWJGb4QpkD"
      },
      "source": [
        "Lets check the model that we can declare with these hyperparameters. "
      ]
    },
    {
      "cell_type": "code",
      "metadata": {
        "id": "LtIeU-IgUoY_",
        "colab": {
          "base_uri": "https://localhost:8080/"
        },
        "outputId": "a55f6d48-12aa-4d64-8b89-dee025d9d5bb"
      },
      "source": [
        "device = torch.device('cuda' if torch.cuda.is_available() else 'cpu')\n",
        "torch.cuda.empty_cache()\n",
        "\n",
        "input_dim = len(de_vocab.words)\n",
        "output_dim = len(it_vocab.words)\n",
        "\n",
        "model = Translator(input_dim, output_dim, EMBEDDING_DIM, HIDDEN_DIM, ATTENION_DIM, DROPOUT, device).to(device)\n",
        "model.apply(init_weights)\n",
        "print(\"Initialized weights...\")\n",
        "\n",
        "n_parameters = sum(p.numel() for p in model.parameters() if p.requires_grad)\n",
        "print(f'The model has {n_parameters} trainable parameters:')\n",
        "print(model)\n",
        "\n",
        "USE_ADADELTA = False #@param {type:\"boolean\"}\n",
        "if USE_ADADELTA:\n",
        "    optimizer = optim.Adadelta(model.parameters(), lr=1.0, rho=RHO, eps=EPSILON)\n",
        "else:\n",
        "    optimizer = optim.Adam(model.parameters(), lr=LEARNING_RATE)\n",
        "loss_func = nn.CrossEntropyLoss(ignore_index=3)"
      ],
      "execution_count": null,
      "outputs": [
        {
          "output_type": "stream",
          "text": [
            "Initialized weights...\n",
            "The model has 2987040 trainable parameters:\n",
            "Translator(\n",
            "  (encoder): Encoder(\n",
            "    (embed): Embedding(10000, 32)\n",
            "    (biRNN): GRU(32, 64, bidirectional=True)\n",
            "    (fc): Linear(in_features=128, out_features=64, bias=True)\n",
            "    (dropout): Dropout(p=0.5, inplace=False)\n",
            "  )\n",
            "  (decoder): Decoder(\n",
            "    (attention): Attention(\n",
            "      (attention): Linear(in_features=192, out_features=40, bias=True)\n",
            "      (v): Linear(in_features=40, out_features=1, bias=False)\n",
            "    )\n",
            "    (embed): Embedding(10000, 32)\n",
            "    (rnn): GRU(160, 64)\n",
            "    (fc_out): Linear(in_features=224, out_features=10000, bias=True)\n",
            "    (dropout): Dropout(p=0.5, inplace=False)\n",
            "  )\n",
            ")\n"
          ],
          "name": "stdout"
        }
      ]
    },
    {
      "cell_type": "markdown",
      "metadata": {
        "id": "V7Z-7zgXpm7o"
      },
      "source": [
        "## 4.4 Train Loop\n",
        "\n"
      ]
    },
    {
      "cell_type": "code",
      "metadata": {
        "id": "91MPWODks-EK"
      },
      "source": [
        "def train(model, train_batches, optimizer, loss_func, gradient_clip):\n",
        "    \"\"\" Trains the model on the training data. \"\"\"\n",
        "    total_loss = 0\n",
        "    n_batches = len(train_batches)\n",
        "    model.train()\n",
        "\n",
        "    for n, (x, y) in enumerate(train_batches):\n",
        "        x = x.to(device=device, dtype=torch.long)\n",
        "        y = y.to(device=device, dtype=torch.long)\n",
        "\n",
        "        optimizer.zero_grad()\n",
        "\n",
        "        output = model(x, y)\n",
        "        output = output[1:].view(-1, output.shape[-1])\n",
        "        y = y[1:].view(-1)\n",
        "\n",
        "        loss = loss_func(output, y)\n",
        "\n",
        "        loss.backward()\n",
        "        clip_grad_norm_(model.parameters(), gradient_clip)\n",
        "        optimizer.step()\n",
        "        total_loss += loss.item()\n",
        "        \n",
        "        # indicate progress\n",
        "        BAR_SIZE = 20\n",
        "        n += 1\n",
        "        avg_loss = total_loss / n\n",
        "        i = math.ceil(n/n_batches * BAR_SIZE)\n",
        "        print('\\r', '#' * i, ' ' * (BAR_SIZE-i),\n",
        "              '{:.2f}%'.format(n/n_batches * 100.0),\n",
        "              '[batch loss: {:.4f}]'.format(loss.item()),\n",
        "              '[epoch_loss: {:.4f}]'.format(avg_loss),\n",
        "              end=' ')\n",
        "        \n",
        "    return avg_loss"
      ],
      "execution_count": null,
      "outputs": []
    },
    {
      "cell_type": "code",
      "metadata": {
        "id": "8LY0WeyFi_1V"
      },
      "source": [
        "def evaluate(model, eval_batches, loss_func):\n",
        "    \"\"\" Evaluates the model on the evaluation data. \"\"\"\n",
        "    model.eval()\n",
        "    n_batches = len(eval_batches)\n",
        "    total_loss = 0\n",
        "\n",
        "    with torch.no_grad():\n",
        "        for n, (x, y) in enumerate(eval_batches):\n",
        "            x = x.to(device=device, dtype=torch.long)\n",
        "            y = y.to(device=device, dtype=torch.long)\n",
        "            \n",
        "            output = model(x, y)\n",
        "\n",
        "            output = output[1:].view(-1, output.shape[-1])\n",
        "            y = y[1:].view(-1)\n",
        "\n",
        "            loss = loss_func(output, y)\n",
        "            total_loss += loss.item()\n",
        "\n",
        "            # indicate progress\n",
        "            BAR_SIZE = 20\n",
        "            n += 1\n",
        "            avg_loss = total_loss / n\n",
        "            i = math.ceil(n/n_batches * BAR_SIZE)\n",
        "            print('\\r', '#' * i, ' ' * (BAR_SIZE-i),\n",
        "                  '{:.2f}%'.format(n/n_batches * 100.0),\n",
        "                  '[batch loss: {:.4f}]'.format(loss.item()),\n",
        "                  '[eval_loss: {:.4f}]'.format(avg_loss),\n",
        "                  end=' ')\n",
        "            \n",
        "    return avg_loss"
      ],
      "execution_count": null,
      "outputs": []
    },
    {
      "cell_type": "code",
      "metadata": {
        "id": "fLLSRe4oW9Sd"
      },
      "source": [
        "def time_since(start):\n",
        "    s = time.time() - start\n",
        "    m = math.floor(s / 60)\n",
        "    s -= m * 60\n",
        "    return '%dm %ds' % (m, s)"
      ],
      "execution_count": null,
      "outputs": []
    },
    {
      "cell_type": "code",
      "metadata": {
        "id": "CFPmzOZqpmL9",
        "colab": {
          "base_uri": "https://localhost:8080/"
        },
        "outputId": "fd07e6aa-491e-4651-ec33-7974c40aef51"
      },
      "source": [
        "print(\"Begin training...\")\n",
        "start_time = time.time()\n",
        "epoch_losses = []\n",
        "eval_losses = []\n",
        "lowest_loss = math.inf\n",
        "for epoch in range(EPOCHS):\n",
        "    print(f'Epoch: {epoch+1} @', datetime.now().strftime(\"%H:%M:%S\"))\n",
        "    epoch_loss = train(model, train_batches, optimizer, loss_func, GRADIENT_CLIP)\n",
        "    print('')\n",
        "    eval_loss = evaluate(model, val_batches, loss_func)\n",
        "    print('\\n[time elapsed: {}]'.format(time_since(start_time)))\n",
        "    if eval_loss < lowest_loss:\n",
        "        lowest_loss = eval_loss\n",
        "        id = uuid.uuid1()\n",
        "        torch.save(model.state_dict(), str(id) + '.pt')\n",
        "    epoch_losses.append(epoch_loss)\n",
        "    eval_losses.append(eval_loss)\n",
        "print(\"Training finished...\")"
      ],
      "execution_count": null,
      "outputs": [
        {
          "output_type": "stream",
          "text": [
            "Begin training...\n",
            "Epoch: 1 @ 15:53:01\n",
            " ####################  100.00% [batch loss: 4.7443] [epoch_loss: 5.3187] \n",
            " ####################  100.00% [batch loss: 6.3235] [eval_loss: 5.0299] \n",
            "[time elapsed: 3m 47s]\n",
            "Epoch: 2 @ 15:56:49\n",
            " ####################  100.00% [batch loss: 4.6455] [epoch_loss: 4.8369] \n",
            " ####################  100.00% [batch loss: 2.9480] [eval_loss: 4.5876] \n",
            "[time elapsed: 7m 30s]\n",
            "Epoch: 3 @ 16:00:32\n",
            " ####################  100.00% [batch loss: 4.9271] [epoch_loss: 4.6189] \n",
            " ####################  100.00% [batch loss: 2.9562] [eval_loss: 4.5062] \n",
            "[time elapsed: 11m 10s]\n",
            "Epoch: 4 @ 16:04:12\n",
            " ####################  100.00% [batch loss: 4.3596] [epoch_loss: 4.4827] \n",
            " ####################  100.00% [batch loss: 4.4545] [eval_loss: 4.5530] \n",
            "[time elapsed: 14m 49s]\n",
            "Epoch: 5 @ 16:07:51\n",
            " ####################  100.00% [batch loss: 4.4924] [epoch_loss: 4.3894] \n",
            " ####################  100.00% [batch loss: 6.2446] [eval_loss: 4.6271] \n",
            "[time elapsed: 18m 29s]\n",
            "Epoch: 6 @ 16:11:31\n",
            " ####################  100.00% [batch loss: 3.3947] [epoch_loss: 4.3164] \n",
            " ####################  100.00% [batch loss: 4.6243] [eval_loss: 4.5012] \n",
            "[time elapsed: 22m 9s]\n",
            "Epoch: 7 @ 16:15:11\n",
            " ####################  100.00% [batch loss: 3.6191] [epoch_loss: 4.2606] \n",
            " ####################  100.00% [batch loss: 4.2481] [eval_loss: 4.4908] \n",
            "[time elapsed: 25m 45s]\n",
            "Epoch: 8 @ 16:18:47\n",
            " ####################  100.00% [batch loss: 4.4423] [epoch_loss: 4.2157] \n",
            " ####################  100.00% [batch loss: 4.7458] [eval_loss: 4.5196] \n",
            "[time elapsed: 29m 21s]\n",
            "Epoch: 9 @ 16:22:23\n",
            " ####################  100.00% [batch loss: 4.5441] [epoch_loss: 4.1758] \n",
            " ####################  100.00% [batch loss: 3.4580] [eval_loss: 4.4268] \n",
            "[time elapsed: 33m 1s]\n",
            "Epoch: 10 @ 16:26:02\n",
            " ####################  100.00% [batch loss: 3.5342] [epoch_loss: 4.1449] \n",
            " ####################  100.00% [batch loss: 4.9030] [eval_loss: 4.5419] \n",
            "[time elapsed: 36m 39s]\n",
            "Training finished...\n"
          ],
          "name": "stdout"
        }
      ]
    },
    {
      "cell_type": "code",
      "metadata": {
        "id": "qNts5holcNm9",
        "colab": {
          "base_uri": "https://localhost:8080/",
          "height": 279
        },
        "outputId": "4258582f-4be4-432e-db9a-45cb81e7cff1"
      },
      "source": [
        "def plot_losses(train_losses, eval_losses, name='losses', epochs=EPOCHS):\n",
        "    x = range(1, epochs+1)\n",
        "    plt.plot(x, train_losses, 'r--', label='train')\n",
        "    plt.plot(x, eval_losses, 'b--', label='eval')\n",
        "    plt.ylabel('losses')\n",
        "    plt.xlabel('epoch')\n",
        "    plt.legend()\n",
        "    plt.savefig(name + '.png', dpi=200)\n",
        "    plt.show()\n",
        "\n",
        "plot_losses(epoch_losses, eval_losses)"
      ],
      "execution_count": null,
      "outputs": [
        {
          "output_type": "display_data",
          "data": {
            "image/png": "[encoded data removed]",
            "text/plain": [
              "<Figure size 432x288 with 1 Axes>"
            ]
          },
          "metadata": {
            "tags": [],
            "needs_background": "light"
          }
        }
      ]
    },
    {
      "cell_type": "markdown",
      "metadata": {
        "id": "YKlKTgSUi87i"
      },
      "source": [
        "# 5. Evaluation\n",
        "\n",
        "A trained model can be loaded by its UUID."
      ]
    },
    {
      "cell_type": "code",
      "metadata": {
        "id": "Ew6AxhAEQKTf"
      },
      "source": [
        "LOAD_STATE = False #@param {type:\"boolean\"}\n",
        "if LOAD_STATE:\n",
        "    UUID = 'Your UUID' #@param {type:\"string\"}\n",
        "    model.load_state_dict(torch.load(UUID + '.pt'))"
      ],
      "execution_count": null,
      "outputs": []
    },
    {
      "cell_type": "code",
      "metadata": {
        "id": "0f5EsPfQ3Rio",
        "colab": {
          "base_uri": "https://localhost:8080/"
        },
        "outputId": "2c4c8b1c-a928-419e-b0d7-6df1ce113710"
      },
      "source": [
        "print(\"Begin evaluation...\")\n",
        "start_time = time.time()\n",
        "test_loss = evaluate(model, test_batches, loss_func)"
      ],
      "execution_count": null,
      "outputs": [
        {
          "output_type": "stream",
          "text": [
            "Begin evaluation...\n",
            " ####################  100.00% [batch loss: 2.9089] [eval_loss: 4.5556] "
          ],
          "name": "stdout"
        }
      ]
    },
    {
      "cell_type": "markdown",
      "metadata": {
        "id": "Xzmlaw-KNTeR"
      },
      "source": [
        "## 5.1 Example Translations"
      ]
    },
    {
      "cell_type": "code",
      "metadata": {
        "id": "9MDEfg2fCC9r"
      },
      "source": [
        "def translate(sentence, model, src_vocab, trg_vocab, device, max_len = MAX_SENT_LENGTH):\n",
        "    \"\"\" Uses a model to translate a given sentence. \"\"\"\n",
        "    model.eval()\n",
        "\n",
        "    src_indeces = src_vocab.get_indeces(sentence)\n",
        "    src_tensor = torch.tensor(src_indeces).unsqueeze(1)\n",
        "    src_tensor = src_tensor.to(device=device, dtype=torch.long)\n",
        "    src_len = torch.LongTensor([len(src_tensor)])\n",
        "    \n",
        "    with torch.no_grad():\n",
        "        encoder_outputs, hidden = model.encoder(src_tensor)\n",
        "        \n",
        "    attentions = torch.zeros(max_len, 1, len(src_indeces)).to(device)\n",
        "    trg_indeces = [src_vocab.words['<S>'].id]\n",
        "    \n",
        "    for i in range(max_len):\n",
        "        trg_tensor = torch.LongTensor([trg_indeces[-1]]).to(device=device, dtype=torch.long)\n",
        "        with torch.no_grad():\n",
        "            output, hidden, attention = model.decoder(trg_tensor, hidden, encoder_outputs)\n",
        "        attentions[i] = attention\n",
        "        pred_word_id = output.argmax(1).item()\n",
        "        trg_indeces.append(pred_word_id)\n",
        "        if pred_word_id == trg_vocab.words['<E>'].id:\n",
        "            break\n",
        "    \n",
        "    trg_sequence = [trg_vocab.ids[id] for id in trg_indeces]\n",
        "    return trg_sequence[1:], attentions[:len(trg_sequence)-1]"
      ],
      "execution_count": null,
      "outputs": []
    },
    {
      "cell_type": "markdown",
      "metadata": {
        "id": "z93r3TbhuG-2"
      },
      "source": [
        "Lets look at some examples:"
      ]
    },
    {
      "cell_type": "code",
      "metadata": {
        "id": "SXSTvfdcAlq5"
      },
      "source": [
        "def find_src_of_len(length, pairs):\n",
        "    \"\"\" Returns the first sentence of the requested length. \"\"\"\n",
        "    for p in pairs:\n",
        "        if len(p[0].split(' ')) == length:\n",
        "            return p\n",
        "    print('not found')"
      ],
      "execution_count": null,
      "outputs": []
    },
    {
      "cell_type": "code",
      "metadata": {
        "id": "48feNY7yNcsL",
        "colab": {
          "base_uri": "https://localhost:8080/"
        },
        "outputId": "a1c18cde-e5d0-42dc-cde2-88d20010e708"
      },
      "source": [
        "pairs = train_pairs\n",
        "random.shuffle(pairs)\n",
        "example_lengths = [7, 12, 20]\n",
        "\n",
        "for l in example_lengths:\n",
        "    pair = find_src_of_len(l, pairs)\n",
        "    sentence = pair[0]\n",
        "    print('\\nsource ->', sentence)\n",
        "    print('target ->', pair[1])\n",
        "\n",
        "    translation, attention = translate(sentence, model, de_vocab, it_vocab, device, MAX_SENT_LENGTH)\n",
        "    print('translation ->', ' '.join(translation[:-1]))"
      ],
      "execution_count": null,
      "outputs": [
        {
          "output_type": "stream",
          "text": [
            "\n",
            "source -> Albernheit in einem bisher völlig unbekannten Ausmaß.\n",
            "\n",
            "target -> A un livello di stupidità impensabile.\n",
            "\n",
            "translation -> <U> <U> un <U> un un un . . . . . \n",
            "\n",
            "\n",
            "source -> Neben vielen anderen eindrucksvollen Experimenten von Hannah ist dieses hier mein liebstes.\n",
            "\n",
            "target -> Fra i molti esperimenti straordinari di Hannah, questo è uno dei miei preferiti.\n",
            "\n",
            "translation -> <U> molti altri <U> <U> <U> <U> <U> <U> <U> <U> <U> <U> <U> <U> preferiti . . \n",
            "\n",
            "\n",
            "source -> Stellen Sie sich vor, dass wir das tun könnten und stellen Sie sich vor, wir könnten die Leute mit einbeziehen.\n",
            "\n",
            "target -> Quindi, immaginate di poterlo fare e immaginate di metterci al lavoro le persone.\n",
            "\n",
            "translation -> <U> immaginate che immaginate , , , , persone persone persone persone . .\n"
          ],
          "name": "stdout"
        }
      ]
    },
    {
      "cell_type": "markdown",
      "metadata": {
        "id": "obURwSDWj1Th"
      },
      "source": [
        "## 5.2 Visualizing Attention\n",
        "\n",
        "We can visualize the soft-alignments learned by the network by plotting the attention energies over the source and target sequences."
      ]
    },
    {
      "cell_type": "code",
      "metadata": {
        "id": "VIIvxfBSAz-K"
      },
      "source": [
        "def show_attention(sentence, translation, attention, name='alignment'):\n",
        "    \"\"\" Plots the learned soft alignment between source and translation. \"\"\"\n",
        "    fig = plt.figure()\n",
        "    ax = fig.add_subplot(111)\n",
        "    attention = attention.squeeze(1).cpu().detach().numpy()\n",
        "    cax = ax.matshow(attention, cmap='bone')\n",
        "    fig.colorbar(cax)\n",
        "\n",
        "    ax.set_xticklabels([''] + sentence.split(' ') + ['<E>'], rotation=90)\n",
        "    ax.set_yticklabels([''] + translation)\n",
        "\n",
        "    ax.xaxis.set_major_locator(ticker.MultipleLocator(1))\n",
        "    ax.yaxis.set_major_locator(ticker.MultipleLocator(1))\n",
        "    \n",
        "    plt.savefig(name + '.png', dpi=200)\n",
        "    plt.show()"
      ],
      "execution_count": null,
      "outputs": []
    },
    {
      "cell_type": "code",
      "metadata": {
        "id": "QhQNvJIX6Yiu",
        "colab": {
          "base_uri": "https://localhost:8080/",
          "height": 933
        },
        "outputId": "62c7b187-bf43-4582-c987-3710a50d8861"
      },
      "source": [
        "pairs = train_pairs\n",
        "random.shuffle(pairs)\n",
        "example_lengths = [7, 12, 20]\n",
        "\n",
        "for l in example_lengths:\n",
        "    pair = find_src_of_len(l, pairs)\n",
        "    sentence = pair[0]\n",
        "    translation, attention = translate(sentence, model, de_vocab, it_vocab, device, MAX_SENT_LENGTH)\n",
        "    show_attention(sentence, translation, attention, str(l))"
      ],
      "execution_count": null,
      "outputs": [
        {
          "output_type": "display_data",
          "data": {
            "image/png": "[encoded data removed]",
            "text/plain": [
              "<Figure size 432x288 with 2 Axes>"
            ]
          },
          "metadata": {
            "tags": [],
            "needs_background": "light"
          }
        },
        {
          "output_type": "display_data",
          "data": {
            "image/png": "[encoded data removed]",
            "text/plain": [
              "<Figure size 432x288 with 2 Axes>"
            ]
          },
          "metadata": {
            "tags": [],
            "needs_background": "light"
          }
        },
        {
          "output_type": "display_data",
          "data": {
            "image/png": "[encoded data removed]",
            "text/plain": [
              "<Figure size 432x288 with 2 Axes>"
            ]
          },
          "metadata": {
            "tags": [],
            "needs_background": "light"
          }
        }
      ]
    }
  ]
}